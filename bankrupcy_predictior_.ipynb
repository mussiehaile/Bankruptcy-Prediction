{
  "nbformat": 4,
  "nbformat_minor": 0,
  "metadata": {
    "colab": {
      "provenance": []
    },
    "kernelspec": {
      "name": "python3",
      "display_name": "Python 3"
    },
    "language_info": {
      "name": "python"
    }
  },
  "cells": [
    {
      "cell_type": "code",
      "source": [
        "import pickle\n",
        "import matplotlib.pyplot as plt\n",
        "import ipywidgets as widgets\n",
        "import numpy as np\n",
        "import pandas as pd\n",
        "from scipy.io.arff import loadarff \n",
        "from imblearn.over_sampling import RandomOverSampler\n",
        "\n",
        "from sklearn.ensemble import GradientBoostingClassifier\n",
        "from sklearn.ensemble import RandomForestClassifier\n",
        "from sklearn.impute import SimpleImputer\n",
        "from sklearn.metrics import (\n",
        "    ConfusionMatrixDisplay,\n",
        "    classification_report,\n",
        "    confusion_matrix,\n",
        ")\n",
        "from sklearn.model_selection import GridSearchCV, train_test_split,cross_val_score\n",
        "from sklearn.pipeline import make_pipeline"
      ],
      "metadata": {
        "id": "LHh7aBBRQXeG"
      },
      "execution_count": 8,
      "outputs": []
    },
    {
      "cell_type": "code",
      "source": [
        "def wrangle(filename):\n",
        "  #loading our data which is in .arff format\n",
        "  raw_data = loadarff(filename)\n",
        "  # loading it as a df for manipulating \n",
        "  df = pd.DataFrame(raw_data[0])\n",
        "  # change our target dtype for string manipulation\n",
        "  df[\"class\"]=df[\"class\"].astype(str)\n",
        "  # extracting only \"0\" and \"1\" form our class column using str.split\n",
        "  df[\"bankrupt\"]= df['class'].str.split(\"'\",expand=True)[1]\n",
        "  # droping the old class column\n",
        "  df=df.drop(columns=\"class\")\n",
        "  return df\n",
        "\n"
      ],
      "metadata": {
        "id": "BWIAAmYge_Mu"
      },
      "execution_count": 3,
      "outputs": []
    },
    {
      "cell_type": "code",
      "source": [
        "df = wrangle(\"/content/drive/MyDrive/bankrucy/1year.arff\")\n",
        "df.head()"
      ],
      "metadata": {
        "colab": {
          "base_uri": "https://localhost:8080/",
          "height": 299
        },
        "id": "01xB7p8nVa33",
        "outputId": "0d626104-aeff-4203-b0d4-2ef4f5ad0ee5"
      },
      "execution_count": 6,
      "outputs": [
        {
          "output_type": "execute_result",
          "data": {
            "text/plain": [
              "      Attr1    Attr2    Attr3   Attr4    Attr5    Attr6     Attr7    Attr8  \\\n",
              "0  0.200550  0.37951  0.39641  2.0472  32.3510  0.38825  0.249760  1.33050   \n",
              "1  0.209120  0.49988  0.47225  1.9447  14.7860  0.00000  0.258340  0.99601   \n",
              "2  0.248660  0.69592  0.26713  1.5548  -1.1523  0.00000  0.309060  0.43695   \n",
              "3  0.081483  0.30734  0.45879  2.4928  51.9520  0.14988  0.092704  1.86610   \n",
              "4  0.187320  0.61323  0.22960  1.4063  -7.3128  0.18732  0.187320  0.63070   \n",
              "\n",
              "    Attr9   Attr10  ...    Attr56   Attr57   Attr58    Attr59  Attr60  Attr61  \\\n",
              "0  1.1389  0.50494  ...  0.121960  0.39718  0.87804  0.001924  8.4160  5.1372   \n",
              "1  1.6996  0.49788  ...  0.121300  0.42002  0.85300  0.000000  4.1486  3.2732   \n",
              "2  1.3090  0.30408  ...  0.241140  0.81774  0.76599  0.694840  4.9909  3.9510   \n",
              "3  1.0571  0.57353  ...  0.054015  0.14207  0.94598  0.000000  4.5746  3.6147   \n",
              "4  1.1559  0.38677  ...  0.134850  0.48431  0.86515  0.124440  6.3985  4.3158   \n",
              "\n",
              "    Attr62  Attr63   Attr64  bankrupt  \n",
              "0   82.658  4.4158   7.4277         0  \n",
              "1  107.350  3.4000  60.9870         0  \n",
              "2  134.270  2.7185   5.2078         0  \n",
              "3   86.435  4.2228   5.5497         0  \n",
              "4  127.210  2.8692   7.8980         0  \n",
              "\n",
              "[5 rows x 65 columns]"
            ],
            "text/html": [
              "\n",
              "  <div id=\"df-2d4324db-1306-459d-a8fb-c45f48fec8ab\">\n",
              "    <div class=\"colab-df-container\">\n",
              "      <div>\n",
              "<style scoped>\n",
              "    .dataframe tbody tr th:only-of-type {\n",
              "        vertical-align: middle;\n",
              "    }\n",
              "\n",
              "    .dataframe tbody tr th {\n",
              "        vertical-align: top;\n",
              "    }\n",
              "\n",
              "    .dataframe thead th {\n",
              "        text-align: right;\n",
              "    }\n",
              "</style>\n",
              "<table border=\"1\" class=\"dataframe\">\n",
              "  <thead>\n",
              "    <tr style=\"text-align: right;\">\n",
              "      <th></th>\n",
              "      <th>Attr1</th>\n",
              "      <th>Attr2</th>\n",
              "      <th>Attr3</th>\n",
              "      <th>Attr4</th>\n",
              "      <th>Attr5</th>\n",
              "      <th>Attr6</th>\n",
              "      <th>Attr7</th>\n",
              "      <th>Attr8</th>\n",
              "      <th>Attr9</th>\n",
              "      <th>Attr10</th>\n",
              "      <th>...</th>\n",
              "      <th>Attr56</th>\n",
              "      <th>Attr57</th>\n",
              "      <th>Attr58</th>\n",
              "      <th>Attr59</th>\n",
              "      <th>Attr60</th>\n",
              "      <th>Attr61</th>\n",
              "      <th>Attr62</th>\n",
              "      <th>Attr63</th>\n",
              "      <th>Attr64</th>\n",
              "      <th>bankrupt</th>\n",
              "    </tr>\n",
              "  </thead>\n",
              "  <tbody>\n",
              "    <tr>\n",
              "      <th>0</th>\n",
              "      <td>0.200550</td>\n",
              "      <td>0.37951</td>\n",
              "      <td>0.39641</td>\n",
              "      <td>2.0472</td>\n",
              "      <td>32.3510</td>\n",
              "      <td>0.38825</td>\n",
              "      <td>0.249760</td>\n",
              "      <td>1.33050</td>\n",
              "      <td>1.1389</td>\n",
              "      <td>0.50494</td>\n",
              "      <td>...</td>\n",
              "      <td>0.121960</td>\n",
              "      <td>0.39718</td>\n",
              "      <td>0.87804</td>\n",
              "      <td>0.001924</td>\n",
              "      <td>8.4160</td>\n",
              "      <td>5.1372</td>\n",
              "      <td>82.658</td>\n",
              "      <td>4.4158</td>\n",
              "      <td>7.4277</td>\n",
              "      <td>0</td>\n",
              "    </tr>\n",
              "    <tr>\n",
              "      <th>1</th>\n",
              "      <td>0.209120</td>\n",
              "      <td>0.49988</td>\n",
              "      <td>0.47225</td>\n",
              "      <td>1.9447</td>\n",
              "      <td>14.7860</td>\n",
              "      <td>0.00000</td>\n",
              "      <td>0.258340</td>\n",
              "      <td>0.99601</td>\n",
              "      <td>1.6996</td>\n",
              "      <td>0.49788</td>\n",
              "      <td>...</td>\n",
              "      <td>0.121300</td>\n",
              "      <td>0.42002</td>\n",
              "      <td>0.85300</td>\n",
              "      <td>0.000000</td>\n",
              "      <td>4.1486</td>\n",
              "      <td>3.2732</td>\n",
              "      <td>107.350</td>\n",
              "      <td>3.4000</td>\n",
              "      <td>60.9870</td>\n",
              "      <td>0</td>\n",
              "    </tr>\n",
              "    <tr>\n",
              "      <th>2</th>\n",
              "      <td>0.248660</td>\n",
              "      <td>0.69592</td>\n",
              "      <td>0.26713</td>\n",
              "      <td>1.5548</td>\n",
              "      <td>-1.1523</td>\n",
              "      <td>0.00000</td>\n",
              "      <td>0.309060</td>\n",
              "      <td>0.43695</td>\n",
              "      <td>1.3090</td>\n",
              "      <td>0.30408</td>\n",
              "      <td>...</td>\n",
              "      <td>0.241140</td>\n",
              "      <td>0.81774</td>\n",
              "      <td>0.76599</td>\n",
              "      <td>0.694840</td>\n",
              "      <td>4.9909</td>\n",
              "      <td>3.9510</td>\n",
              "      <td>134.270</td>\n",
              "      <td>2.7185</td>\n",
              "      <td>5.2078</td>\n",
              "      <td>0</td>\n",
              "    </tr>\n",
              "    <tr>\n",
              "      <th>3</th>\n",
              "      <td>0.081483</td>\n",
              "      <td>0.30734</td>\n",
              "      <td>0.45879</td>\n",
              "      <td>2.4928</td>\n",
              "      <td>51.9520</td>\n",
              "      <td>0.14988</td>\n",
              "      <td>0.092704</td>\n",
              "      <td>1.86610</td>\n",
              "      <td>1.0571</td>\n",
              "      <td>0.57353</td>\n",
              "      <td>...</td>\n",
              "      <td>0.054015</td>\n",
              "      <td>0.14207</td>\n",
              "      <td>0.94598</td>\n",
              "      <td>0.000000</td>\n",
              "      <td>4.5746</td>\n",
              "      <td>3.6147</td>\n",
              "      <td>86.435</td>\n",
              "      <td>4.2228</td>\n",
              "      <td>5.5497</td>\n",
              "      <td>0</td>\n",
              "    </tr>\n",
              "    <tr>\n",
              "      <th>4</th>\n",
              "      <td>0.187320</td>\n",
              "      <td>0.61323</td>\n",
              "      <td>0.22960</td>\n",
              "      <td>1.4063</td>\n",
              "      <td>-7.3128</td>\n",
              "      <td>0.18732</td>\n",
              "      <td>0.187320</td>\n",
              "      <td>0.63070</td>\n",
              "      <td>1.1559</td>\n",
              "      <td>0.38677</td>\n",
              "      <td>...</td>\n",
              "      <td>0.134850</td>\n",
              "      <td>0.48431</td>\n",
              "      <td>0.86515</td>\n",
              "      <td>0.124440</td>\n",
              "      <td>6.3985</td>\n",
              "      <td>4.3158</td>\n",
              "      <td>127.210</td>\n",
              "      <td>2.8692</td>\n",
              "      <td>7.8980</td>\n",
              "      <td>0</td>\n",
              "    </tr>\n",
              "  </tbody>\n",
              "</table>\n",
              "<p>5 rows × 65 columns</p>\n",
              "</div>\n",
              "      <button class=\"colab-df-convert\" onclick=\"convertToInteractive('df-2d4324db-1306-459d-a8fb-c45f48fec8ab')\"\n",
              "              title=\"Convert this dataframe to an interactive table.\"\n",
              "              style=\"display:none;\">\n",
              "        \n",
              "  <svg xmlns=\"http://www.w3.org/2000/svg\" height=\"24px\"viewBox=\"0 0 24 24\"\n",
              "       width=\"24px\">\n",
              "    <path d=\"M0 0h24v24H0V0z\" fill=\"none\"/>\n",
              "    <path d=\"M18.56 5.44l.94 2.06.94-2.06 2.06-.94-2.06-.94-.94-2.06-.94 2.06-2.06.94zm-11 1L8.5 8.5l.94-2.06 2.06-.94-2.06-.94L8.5 2.5l-.94 2.06-2.06.94zm10 10l.94 2.06.94-2.06 2.06-.94-2.06-.94-.94-2.06-.94 2.06-2.06.94z\"/><path d=\"M17.41 7.96l-1.37-1.37c-.4-.4-.92-.59-1.43-.59-.52 0-1.04.2-1.43.59L10.3 9.45l-7.72 7.72c-.78.78-.78 2.05 0 2.83L4 21.41c.39.39.9.59 1.41.59.51 0 1.02-.2 1.41-.59l7.78-7.78 2.81-2.81c.8-.78.8-2.07 0-2.86zM5.41 20L4 18.59l7.72-7.72 1.47 1.35L5.41 20z\"/>\n",
              "  </svg>\n",
              "      </button>\n",
              "      \n",
              "  <style>\n",
              "    .colab-df-container {\n",
              "      display:flex;\n",
              "      flex-wrap:wrap;\n",
              "      gap: 12px;\n",
              "    }\n",
              "\n",
              "    .colab-df-convert {\n",
              "      background-color: #E8F0FE;\n",
              "      border: none;\n",
              "      border-radius: 50%;\n",
              "      cursor: pointer;\n",
              "      display: none;\n",
              "      fill: #1967D2;\n",
              "      height: 32px;\n",
              "      padding: 0 0 0 0;\n",
              "      width: 32px;\n",
              "    }\n",
              "\n",
              "    .colab-df-convert:hover {\n",
              "      background-color: #E2EBFA;\n",
              "      box-shadow: 0px 1px 2px rgba(60, 64, 67, 0.3), 0px 1px 3px 1px rgba(60, 64, 67, 0.15);\n",
              "      fill: #174EA6;\n",
              "    }\n",
              "\n",
              "    [theme=dark] .colab-df-convert {\n",
              "      background-color: #3B4455;\n",
              "      fill: #D2E3FC;\n",
              "    }\n",
              "\n",
              "    [theme=dark] .colab-df-convert:hover {\n",
              "      background-color: #434B5C;\n",
              "      box-shadow: 0px 1px 3px 1px rgba(0, 0, 0, 0.15);\n",
              "      filter: drop-shadow(0px 1px 2px rgba(0, 0, 0, 0.3));\n",
              "      fill: #FFFFFF;\n",
              "    }\n",
              "  </style>\n",
              "\n",
              "      <script>\n",
              "        const buttonEl =\n",
              "          document.querySelector('#df-2d4324db-1306-459d-a8fb-c45f48fec8ab button.colab-df-convert');\n",
              "        buttonEl.style.display =\n",
              "          google.colab.kernel.accessAllowed ? 'block' : 'none';\n",
              "\n",
              "        async function convertToInteractive(key) {\n",
              "          const element = document.querySelector('#df-2d4324db-1306-459d-a8fb-c45f48fec8ab');\n",
              "          const dataTable =\n",
              "            await google.colab.kernel.invokeFunction('convertToInteractive',\n",
              "                                                     [key], {});\n",
              "          if (!dataTable) return;\n",
              "\n",
              "          const docLinkHtml = 'Like what you see? Visit the ' +\n",
              "            '<a target=\"_blank\" href=https://colab.research.google.com/notebooks/data_table.ipynb>data table notebook</a>'\n",
              "            + ' to learn more about interactive tables.';\n",
              "          element.innerHTML = '';\n",
              "          dataTable['output_type'] = 'display_data';\n",
              "          await google.colab.output.renderOutput(dataTable, element);\n",
              "          const docLink = document.createElement('div');\n",
              "          docLink.innerHTML = docLinkHtml;\n",
              "          element.appendChild(docLink);\n",
              "        }\n",
              "      </script>\n",
              "    </div>\n",
              "  </div>\n",
              "  "
            ]
          },
          "metadata": {},
          "execution_count": 6
        }
      ]
    },
    {
      "cell_type": "code",
      "source": [
        "\n",
        "#check if thair is any missing data\n",
        "nans_by_col= df.isnull().sum()\n",
        "print(\"nans_by_col shape:\", nans_by_col.shape)\n",
        "nans_by_col.head(10)"
      ],
      "metadata": {
        "colab": {
          "base_uri": "https://localhost:8080/"
        },
        "id": "3CIPtwoEJQfj",
        "outputId": "22c700c2-27ce-4947-c331-e78b67afa99b"
      },
      "execution_count": 7,
      "outputs": [
        {
          "output_type": "stream",
          "name": "stdout",
          "text": [
            "nans_by_col shape: (65,)\n"
          ]
        },
        {
          "output_type": "execute_result",
          "data": {
            "text/plain": [
              "Attr1      3\n",
              "Attr2      3\n",
              "Attr3      3\n",
              "Attr4     30\n",
              "Attr5      8\n",
              "Attr6      3\n",
              "Attr7      3\n",
              "Attr8     25\n",
              "Attr9      1\n",
              "Attr10     3\n",
              "dtype: int64"
            ]
          },
          "metadata": {},
          "execution_count": 7
        }
      ]
    },
    {
      "cell_type": "markdown",
      "source": [
        "#checking if thair is any imbalacing in my data"
      ],
      "metadata": {
        "id": "YD0i9zCIUVEG"
      }
    },
    {
      "cell_type": "code",
      "source": [
        "# Plot class balance\n",
        "df[\"bankrupt\"].value_counts(normalize=True).plot(\n",
        "    kind=\"bar\",xlabel='bankrupt',ylabel='frequency',title='class balance'\n",
        "); "
      ],
      "metadata": {
        "id": "n_aYFVnoKjCu",
        "colab": {
          "base_uri": "https://localhost:8080/",
          "height": 292
        },
        "outputId": "a5b7a32f-f153-43c9-ac5c-24aa49268fec"
      },
      "execution_count": 18,
      "outputs": [
        {
          "output_type": "display_data",
          "data": {
            "text/plain": [
              "<Figure size 432x288 with 1 Axes>"
            ],
            "image/png": "[encoded data removed]"
          },
          "metadata": {
            "needs_background": "light"
          }
        }
      ]
    },
    {
      "cell_type": "markdown",
      "source": [
        "#Spliting\n",
        "Create your feature matrix X and target vector y. Your target is \"bankrupt\""
      ],
      "metadata": {
        "id": "kERni3hMUqKR"
      }
    },
    {
      "cell_type": "code",
      "source": [
        "target = \"bankrupt\"\n",
        "X = df.drop(columns=target)\n",
        "y = df[target]\n",
        "print(\"X shape:\", X.shape)\n",
        "print(\"y shape:\", y.shape)"
      ],
      "metadata": {
        "colab": {
          "base_uri": "https://localhost:8080/"
        },
        "id": "ebyaXZH_PZNd",
        "outputId": "ddfe1609-da96-4bb0-9a2d-cea1447993d3"
      },
      "execution_count": 24,
      "outputs": [
        {
          "output_type": "stream",
          "name": "stdout",
          "text": [
            "X shape: (7027, 64)\n",
            "y shape: (7027,)\n"
          ]
        }
      ]
    },
    {
      "cell_type": "markdown",
      "source": [
        "#Train_Test_Split\n",
        "Divide your dataset into training and test sets using a randomized split. Your test set should be 20% of your data. Be sure to set random_state to 42"
      ],
      "metadata": {
        "id": "oq4x_2cqU-Nu"
      }
    },
    {
      "cell_type": "code",
      "source": [
        "X_train, X_test, y_train, y_test = X_train, X_test, y_train, y_test = train_test_split(X,y,test_size=0.2,random_state=True)\n",
        "\n",
        "print(\"X_train shape:\", X_train.shape)\n",
        "print(\"y_train shape:\", y_train.shape)\n",
        "print(\"X_test shape:\", X_test.shape)\n",
        "print(\"y_test shape:\", y_test.shape)"
      ],
      "metadata": {
        "colab": {
          "base_uri": "https://localhost:8080/"
        },
        "id": "S8RgykQHRzw8",
        "outputId": "b8a222bc-3e3f-43c2-daa7-481a3e724b1f"
      },
      "execution_count": 25,
      "outputs": [
        {
          "output_type": "stream",
          "name": "stdout",
          "text": [
            "X_train shape: (5621, 64)\n",
            "y_train shape: (5621,)\n",
            "X_test shape: (1406, 64)\n",
            "y_test shape: (1406,)\n"
          ]
        }
      ]
    },
    {
      "cell_type": "markdown",
      "source": [
        "#resampling\n",
        "as we can see in class distribution the class \"0\" represented almost 95% of our data which means if we train using this data the model is goning to skiew on it's prediction so we have to resample it .\n",
        "we have 2 sampling technique :\n",
        "      \n",
        "\n",
        "1. - under sampling  \n",
        "\n",
        "2. - over sampling\n",
        "\n",
        "in this case we are going to use over sampling "
      ],
      "metadata": {
        "id": "3DC7phCOWQ2z"
      }
    },
    {
      "cell_type": "code",
      "source": [
        "over_sampler = RandomOverSampler()\n",
        "X_train_over, y_train_over = over_sampler.fit_resample(X_train,y_train)\n",
        "print(\"X_train_over shape:\", X_train_over.shape)\n",
        "X_train_over.head()"
      ],
      "metadata": {
        "colab": {
          "base_uri": "https://localhost:8080/",
          "height": 318
        },
        "id": "LxSZcQpFWG1J",
        "outputId": "0967b6d7-8f1a-40e5-db65-b71ae3e2ce58"
      },
      "execution_count": 26,
      "outputs": [
        {
          "output_type": "stream",
          "name": "stdout",
          "text": [
            "X_train_over shape: (10824, 64)\n"
          ]
        },
        {
          "output_type": "execute_result",
          "data": {
            "text/plain": [
              "      Attr1    Attr2     Attr3   Attr4      Attr5  Attr6     Attr7    Attr8  \\\n",
              "0  0.434180  0.34879  0.463570  2.4162   10.44900    0.0  0.434180  1.86700   \n",
              "1  0.127580  0.80712  0.183790  1.2283  -25.15300    0.0  0.158370  0.23898   \n",
              "2  0.380870  0.61862 -0.005261  0.9915  -17.54900    0.0  0.469480  0.61649   \n",
              "3  0.057545  0.50707  0.200890  1.7841   -0.43288    0.0  0.073646  0.97211   \n",
              "4  0.522840  0.45499  0.439080  2.3814  276.14000    0.0  0.522840  1.19780   \n",
              "\n",
              "    Attr9   Attr10  ...    Attr55    Attr56   Attr57   Attr58   Attr59  \\\n",
              "0  2.6044  0.65121  ...  5100.500  0.179320  0.66673  0.83353  0.03186   \n",
              "1  3.2651  0.19288  ...   905.810  0.051736  0.66146  0.95154  0.00000   \n",
              "2  1.8825  0.38138  ...   -53.019  0.241690  0.99867  0.75269  0.00000   \n",
              "3  1.4059  0.49293  ...  4846.300  0.069942  0.11674  0.94783  0.50861   \n",
              "4  2.5801  0.54501  ...   775.530  0.310300  0.95933  0.69848  0.25162   \n",
              "\n",
              "     Attr60  Attr61   Attr62  Attr63    Attr64  \n",
              "0    6.7801  7.8937   45.876  7.9562   12.4560  \n",
              "1    8.2532  5.8869   89.981  4.0564  289.4800  \n",
              "2   31.3270  7.5319  119.950  3.0430    4.8689  \n",
              "3    7.8747  5.9519   66.516  5.4874    2.5895  \n",
              "4  150.8800  3.6793   44.967  8.1171   10.6150  \n",
              "\n",
              "[5 rows x 64 columns]"
            ],
            "text/html": [
              "\n",
              "  <div id=\"df-49b84f73-36d2-40cd-a604-bddbccf55c30\">\n",
              "    <div class=\"colab-df-container\">\n",
              "      <div>\n",
              "<style scoped>\n",
              "    .dataframe tbody tr th:only-of-type {\n",
              "        vertical-align: middle;\n",
              "    }\n",
              "\n",
              "    .dataframe tbody tr th {\n",
              "        vertical-align: top;\n",
              "    }\n",
              "\n",
              "    .dataframe thead th {\n",
              "        text-align: right;\n",
              "    }\n",
              "</style>\n",
              "<table border=\"1\" class=\"dataframe\">\n",
              "  <thead>\n",
              "    <tr style=\"text-align: right;\">\n",
              "      <th></th>\n",
              "      <th>Attr1</th>\n",
              "      <th>Attr2</th>\n",
              "      <th>Attr3</th>\n",
              "      <th>Attr4</th>\n",
              "      <th>Attr5</th>\n",
              "      <th>Attr6</th>\n",
              "      <th>Attr7</th>\n",
              "      <th>Attr8</th>\n",
              "      <th>Attr9</th>\n",
              "      <th>Attr10</th>\n",
              "      <th>...</th>\n",
              "      <th>Attr55</th>\n",
              "      <th>Attr56</th>\n",
              "      <th>Attr57</th>\n",
              "      <th>Attr58</th>\n",
              "      <th>Attr59</th>\n",
              "      <th>Attr60</th>\n",
              "      <th>Attr61</th>\n",
              "      <th>Attr62</th>\n",
              "      <th>Attr63</th>\n",
              "      <th>Attr64</th>\n",
              "    </tr>\n",
              "  </thead>\n",
              "  <tbody>\n",
              "    <tr>\n",
              "      <th>0</th>\n",
              "      <td>0.434180</td>\n",
              "      <td>0.34879</td>\n",
              "      <td>0.463570</td>\n",
              "      <td>2.4162</td>\n",
              "      <td>10.44900</td>\n",
              "      <td>0.0</td>\n",
              "      <td>0.434180</td>\n",
              "      <td>1.86700</td>\n",
              "      <td>2.6044</td>\n",
              "      <td>0.65121</td>\n",
              "      <td>...</td>\n",
              "      <td>5100.500</td>\n",
              "      <td>0.179320</td>\n",
              "      <td>0.66673</td>\n",
              "      <td>0.83353</td>\n",
              "      <td>0.03186</td>\n",
              "      <td>6.7801</td>\n",
              "      <td>7.8937</td>\n",
              "      <td>45.876</td>\n",
              "      <td>7.9562</td>\n",
              "      <td>12.4560</td>\n",
              "    </tr>\n",
              "    <tr>\n",
              "      <th>1</th>\n",
              "      <td>0.127580</td>\n",
              "      <td>0.80712</td>\n",
              "      <td>0.183790</td>\n",
              "      <td>1.2283</td>\n",
              "      <td>-25.15300</td>\n",
              "      <td>0.0</td>\n",
              "      <td>0.158370</td>\n",
              "      <td>0.23898</td>\n",
              "      <td>3.2651</td>\n",
              "      <td>0.19288</td>\n",
              "      <td>...</td>\n",
              "      <td>905.810</td>\n",
              "      <td>0.051736</td>\n",
              "      <td>0.66146</td>\n",
              "      <td>0.95154</td>\n",
              "      <td>0.00000</td>\n",
              "      <td>8.2532</td>\n",
              "      <td>5.8869</td>\n",
              "      <td>89.981</td>\n",
              "      <td>4.0564</td>\n",
              "      <td>289.4800</td>\n",
              "    </tr>\n",
              "    <tr>\n",
              "      <th>2</th>\n",
              "      <td>0.380870</td>\n",
              "      <td>0.61862</td>\n",
              "      <td>-0.005261</td>\n",
              "      <td>0.9915</td>\n",
              "      <td>-17.54900</td>\n",
              "      <td>0.0</td>\n",
              "      <td>0.469480</td>\n",
              "      <td>0.61649</td>\n",
              "      <td>1.8825</td>\n",
              "      <td>0.38138</td>\n",
              "      <td>...</td>\n",
              "      <td>-53.019</td>\n",
              "      <td>0.241690</td>\n",
              "      <td>0.99867</td>\n",
              "      <td>0.75269</td>\n",
              "      <td>0.00000</td>\n",
              "      <td>31.3270</td>\n",
              "      <td>7.5319</td>\n",
              "      <td>119.950</td>\n",
              "      <td>3.0430</td>\n",
              "      <td>4.8689</td>\n",
              "    </tr>\n",
              "    <tr>\n",
              "      <th>3</th>\n",
              "      <td>0.057545</td>\n",
              "      <td>0.50707</td>\n",
              "      <td>0.200890</td>\n",
              "      <td>1.7841</td>\n",
              "      <td>-0.43288</td>\n",
              "      <td>0.0</td>\n",
              "      <td>0.073646</td>\n",
              "      <td>0.97211</td>\n",
              "      <td>1.4059</td>\n",
              "      <td>0.49293</td>\n",
              "      <td>...</td>\n",
              "      <td>4846.300</td>\n",
              "      <td>0.069942</td>\n",
              "      <td>0.11674</td>\n",
              "      <td>0.94783</td>\n",
              "      <td>0.50861</td>\n",
              "      <td>7.8747</td>\n",
              "      <td>5.9519</td>\n",
              "      <td>66.516</td>\n",
              "      <td>5.4874</td>\n",
              "      <td>2.5895</td>\n",
              "    </tr>\n",
              "    <tr>\n",
              "      <th>4</th>\n",
              "      <td>0.522840</td>\n",
              "      <td>0.45499</td>\n",
              "      <td>0.439080</td>\n",
              "      <td>2.3814</td>\n",
              "      <td>276.14000</td>\n",
              "      <td>0.0</td>\n",
              "      <td>0.522840</td>\n",
              "      <td>1.19780</td>\n",
              "      <td>2.5801</td>\n",
              "      <td>0.54501</td>\n",
              "      <td>...</td>\n",
              "      <td>775.530</td>\n",
              "      <td>0.310300</td>\n",
              "      <td>0.95933</td>\n",
              "      <td>0.69848</td>\n",
              "      <td>0.25162</td>\n",
              "      <td>150.8800</td>\n",
              "      <td>3.6793</td>\n",
              "      <td>44.967</td>\n",
              "      <td>8.1171</td>\n",
              "      <td>10.6150</td>\n",
              "    </tr>\n",
              "  </tbody>\n",
              "</table>\n",
              "<p>5 rows × 64 columns</p>\n",
              "</div>\n",
              "      <button class=\"colab-df-convert\" onclick=\"convertToInteractive('df-49b84f73-36d2-40cd-a604-bddbccf55c30')\"\n",
              "              title=\"Convert this dataframe to an interactive table.\"\n",
              "              style=\"display:none;\">\n",
              "        \n",
              "  <svg xmlns=\"http://www.w3.org/2000/svg\" height=\"24px\"viewBox=\"0 0 24 24\"\n",
              "       width=\"24px\">\n",
              "    <path d=\"M0 0h24v24H0V0z\" fill=\"none\"/>\n",
              "    <path d=\"M18.56 5.44l.94 2.06.94-2.06 2.06-.94-2.06-.94-.94-2.06-.94 2.06-2.06.94zm-11 1L8.5 8.5l.94-2.06 2.06-.94-2.06-.94L8.5 2.5l-.94 2.06-2.06.94zm10 10l.94 2.06.94-2.06 2.06-.94-2.06-.94-.94-2.06-.94 2.06-2.06.94z\"/><path d=\"M17.41 7.96l-1.37-1.37c-.4-.4-.92-.59-1.43-.59-.52 0-1.04.2-1.43.59L10.3 9.45l-7.72 7.72c-.78.78-.78 2.05 0 2.83L4 21.41c.39.39.9.59 1.41.59.51 0 1.02-.2 1.41-.59l7.78-7.78 2.81-2.81c.8-.78.8-2.07 0-2.86zM5.41 20L4 18.59l7.72-7.72 1.47 1.35L5.41 20z\"/>\n",
              "  </svg>\n",
              "      </button>\n",
              "      \n",
              "  <style>\n",
              "    .colab-df-container {\n",
              "      display:flex;\n",
              "      flex-wrap:wrap;\n",
              "      gap: 12px;\n",
              "    }\n",
              "\n",
              "    .colab-df-convert {\n",
              "      background-color: #E8F0FE;\n",
              "      border: none;\n",
              "      border-radius: 50%;\n",
              "      cursor: pointer;\n",
              "      display: none;\n",
              "      fill: #1967D2;\n",
              "      height: 32px;\n",
              "      padding: 0 0 0 0;\n",
              "      width: 32px;\n",
              "    }\n",
              "\n",
              "    .colab-df-convert:hover {\n",
              "      background-color: #E2EBFA;\n",
              "      box-shadow: 0px 1px 2px rgba(60, 64, 67, 0.3), 0px 1px 3px 1px rgba(60, 64, 67, 0.15);\n",
              "      fill: #174EA6;\n",
              "    }\n",
              "\n",
              "    [theme=dark] .colab-df-convert {\n",
              "      background-color: #3B4455;\n",
              "      fill: #D2E3FC;\n",
              "    }\n",
              "\n",
              "    [theme=dark] .colab-df-convert:hover {\n",
              "      background-color: #434B5C;\n",
              "      box-shadow: 0px 1px 3px 1px rgba(0, 0, 0, 0.15);\n",
              "      filter: drop-shadow(0px 1px 2px rgba(0, 0, 0, 0.3));\n",
              "      fill: #FFFFFF;\n",
              "    }\n",
              "  </style>\n",
              "\n",
              "      <script>\n",
              "        const buttonEl =\n",
              "          document.querySelector('#df-49b84f73-36d2-40cd-a604-bddbccf55c30 button.colab-df-convert');\n",
              "        buttonEl.style.display =\n",
              "          google.colab.kernel.accessAllowed ? 'block' : 'none';\n",
              "\n",
              "        async function convertToInteractive(key) {\n",
              "          const element = document.querySelector('#df-49b84f73-36d2-40cd-a604-bddbccf55c30');\n",
              "          const dataTable =\n",
              "            await google.colab.kernel.invokeFunction('convertToInteractive',\n",
              "                                                     [key], {});\n",
              "          if (!dataTable) return;\n",
              "\n",
              "          const docLinkHtml = 'Like what you see? Visit the ' +\n",
              "            '<a target=\"_blank\" href=https://colab.research.google.com/notebooks/data_table.ipynb>data table notebook</a>'\n",
              "            + ' to learn more about interactive tables.';\n",
              "          element.innerHTML = '';\n",
              "          dataTable['output_type'] = 'display_data';\n",
              "          await google.colab.output.renderOutput(dataTable, element);\n",
              "          const docLink = document.createElement('div');\n",
              "          docLink.innerHTML = docLinkHtml;\n",
              "          element.appendChild(docLink);\n",
              "        }\n",
              "      </script>\n",
              "    </div>\n",
              "  </div>\n",
              "  "
            ]
          },
          "metadata": {},
          "execution_count": 26
        }
      ]
    },
    {
      "cell_type": "markdown",
      "source": [
        "# Build Model(Baseline_Model)\n",
        "first we have to construct our baseline model which is used for thresholding .basically the accuracy of the model we have to build must be greater than baseline accuracy."
      ],
      "metadata": {
        "id": "mse3EnrOXqb4"
      }
    },
    {
      "cell_type": "code",
      "source": [
        "acc_baseline = y_train.value_counts(normalize=True).max()\n",
        "print(\"Baseline Accuracy:\", round(acc_baseline, 4))"
      ],
      "metadata": {
        "colab": {
          "base_uri": "https://localhost:8080/"
        },
        "id": "3wnRP382XhG1",
        "outputId": "f2a3d33e-600d-44da-d8fc-83598994b9d3"
      },
      "execution_count": 27,
      "outputs": [
        {
          "output_type": "stream",
          "name": "stdout",
          "text": [
            "Baseline Accuracy: 0.9628\n"
          ]
        }
      ]
    },
    {
      "cell_type": "markdown",
      "source": [
        "# Constracting our actual model \n",
        "using make_pipline from scikit_learn we can create model architecture easily."
      ],
      "metadata": {
        "id": "ToTRboZ8YcWn"
      }
    },
    {
      "cell_type": "code",
      "source": [
        "clf = make_pipeline(SimpleImputer(),RandomForestClassifier(random_state=42))\n",
        "print(clf)"
      ],
      "metadata": {
        "colab": {
          "base_uri": "https://localhost:8080/"
        },
        "id": "u3MRlNwJYSQf",
        "outputId": "31fa0dea-99ae-4b66-cc4d-f669a96e65dc"
      },
      "execution_count": 28,
      "outputs": [
        {
          "output_type": "stream",
          "name": "stdout",
          "text": [
            "Pipeline(steps=[('simpleimputer', SimpleImputer()),\n",
            "                ('randomforestclassifier',\n",
            "                 RandomForestClassifier(random_state=42))])\n"
          ]
        }
      ]
    },
    {
      "cell_type": "code",
      "source": [
        "# using cross validation for spliting our traing data in to 5 samples we might get some good accuracy than normal train test split\n",
        "cv_acc_scores = cross_val_score(clf,X_train_over,y_train_over,cv=5,n_jobs=-1)\n",
        "print(cv_acc_scores)\n"
      ],
      "metadata": {
        "colab": {
          "base_uri": "https://localhost:8080/"
        },
        "id": "n0eNfIMPZQ_1",
        "outputId": "5aec4972-41a9-4a57-b4ad-99c40a39dbbd"
      },
      "execution_count": 29,
      "outputs": [
        {
          "output_type": "stream",
          "name": "stdout",
          "text": [
            "[0.99953811 0.99769053 1.         0.99861432 0.99953789]\n"
          ]
        }
      ]
    },
    {
      "cell_type": "markdown",
      "source": [
        "# Hayperparameter tunning\n",
        "we did get nice result using cross_val method but in real world we often use hyperparameter tunning to increase our accuracy"
      ],
      "metadata": {
        "id": "5733E1XPabHH"
      }
    },
    {
      "cell_type": "code",
      "source": [
        "#specifying parameters to tune\n",
        "params = {\n",
        "    \"simpleimputer__strategy\":[\"mean\",\"median\"],\n",
        "    \"randomforestclassifier__n_estimators\":range(25,100,25),\n",
        "    \"randomforestclassifier__max_depth\":range(10,50,10)\n",
        "}\n",
        "params"
      ],
      "metadata": {
        "colab": {
          "base_uri": "https://localhost:8080/"
        },
        "id": "WegL_ZfJaPS3",
        "outputId": "94c6ed88-9dba-4524-f7d3-0aba41661d38"
      },
      "execution_count": 30,
      "outputs": [
        {
          "output_type": "execute_result",
          "data": {
            "text/plain": [
              "{'simpleimputer__strategy': ['mean', 'median'],\n",
              " 'randomforestclassifier__n_estimators': range(25, 100, 25),\n",
              " 'randomforestclassifier__max_depth': range(10, 50, 10)}"
            ]
          },
          "metadata": {},
          "execution_count": 30
        }
      ]
    },
    {
      "cell_type": "code",
      "source": [
        "# using grid search we can get the best parameter from the above range of params\n",
        "model = GridSearchCV(\n",
        "clf,param_grid=params,n_jobs=-1,cv=5,verbose=1\n",
        ")\n",
        "model"
      ],
      "metadata": {
        "colab": {
          "base_uri": "https://localhost:8080/"
        },
        "id": "fqFJFDambApf",
        "outputId": "d0d9b035-b1d6-41c0-ca40-cedcbe4c860b"
      },
      "execution_count": 31,
      "outputs": [
        {
          "output_type": "execute_result",
          "data": {
            "text/plain": [
              "GridSearchCV(cv=5,\n",
              "             estimator=Pipeline(steps=[('simpleimputer', SimpleImputer()),\n",
              "                                       ('randomforestclassifier',\n",
              "                                        RandomForestClassifier(random_state=42))]),\n",
              "             n_jobs=-1,\n",
              "             param_grid={'randomforestclassifier__max_depth': range(10, 50, 10),\n",
              "                         'randomforestclassifier__n_estimators': range(25, 100, 25),\n",
              "                         'simpleimputer__strategy': ['mean', 'median']},\n",
              "             verbose=1)"
            ]
          },
          "metadata": {},
          "execution_count": 31
        }
      ]
    },
    {
      "cell_type": "code",
      "source": [
        "#now fitting our model on oversampled data\n",
        "# Train model\n",
        "model.fit(X_train_over,y_train_over)"
      ],
      "metadata": {
        "colab": {
          "base_uri": "https://localhost:8080/"
        },
        "id": "v4qlqYpAa6up",
        "outputId": "41ff7ad1-630b-4337-b711-8768e2cefa5b"
      },
      "execution_count": 32,
      "outputs": [
        {
          "output_type": "stream",
          "name": "stdout",
          "text": [
            "Fitting 5 folds for each of 24 candidates, totalling 120 fits\n"
          ]
        },
        {
          "output_type": "execute_result",
          "data": {
            "text/plain": [
              "GridSearchCV(cv=5,\n",
              "             estimator=Pipeline(steps=[('simpleimputer', SimpleImputer()),\n",
              "                                       ('randomforestclassifier',\n",
              "                                        RandomForestClassifier(random_state=42))]),\n",
              "             n_jobs=-1,\n",
              "             param_grid={'randomforestclassifier__max_depth': range(10, 50, 10),\n",
              "                         'randomforestclassifier__n_estimators': range(25, 100, 25),\n",
              "                         'simpleimputer__strategy': ['mean', 'median']},\n",
              "             verbose=1)"
            ]
          },
          "metadata": {},
          "execution_count": 32
        }
      ]
    },
    {
      "cell_type": "code",
      "source": [
        "#extracting the results and converting in to df just ot see it clearly\n",
        "cv_results = pd.DataFrame(model.cv_results_)\n",
        "cv_results.head(10)"
      ],
      "metadata": {
        "colab": {
          "base_uri": "https://localhost:8080/",
          "height": 600
        },
        "id": "jnnzk2a0bSYe",
        "outputId": "70c6c885-5a3b-476f-d09f-9d2d7003f31b"
      },
      "execution_count": 33,
      "outputs": [
        {
          "output_type": "execute_result",
          "data": {
            "text/plain": [
              "   mean_fit_time  std_fit_time  mean_score_time  std_score_time  \\\n",
              "0       1.203638      0.030220         0.028073        0.001034   \n",
              "1       1.312837      0.057980         0.029908        0.001940   \n",
              "2       2.278038      0.026651         0.042034        0.002350   \n",
              "3       2.372835      0.027748         0.041159        0.000792   \n",
              "4       3.321125      0.060356         0.055224        0.002705   \n",
              "5       3.446590      0.059809         0.054491        0.001582   \n",
              "6       1.304386      0.046537         0.029695        0.001288   \n",
              "7       1.399635      0.022011         0.028876        0.000623   \n",
              "8       2.507833      0.013200         0.043840        0.001038   \n",
              "9       2.592053      0.055344         0.043524        0.001024   \n",
              "\n",
              "  param_randomforestclassifier__max_depth  \\\n",
              "0                                      10   \n",
              "1                                      10   \n",
              "2                                      10   \n",
              "3                                      10   \n",
              "4                                      10   \n",
              "5                                      10   \n",
              "6                                      20   \n",
              "7                                      20   \n",
              "8                                      20   \n",
              "9                                      20   \n",
              "\n",
              "  param_randomforestclassifier__n_estimators param_simpleimputer__strategy  \\\n",
              "0                                         25                          mean   \n",
              "1                                         25                        median   \n",
              "2                                         50                          mean   \n",
              "3                                         50                        median   \n",
              "4                                         75                          mean   \n",
              "5                                         75                        median   \n",
              "6                                         25                          mean   \n",
              "7                                         25                        median   \n",
              "8                                         50                          mean   \n",
              "9                                         50                        median   \n",
              "\n",
              "                                              params  split0_test_score  \\\n",
              "0  {'randomforestclassifier__max_depth': 10, 'ran...           0.993995   \n",
              "1  {'randomforestclassifier__max_depth': 10, 'ran...           0.990762   \n",
              "2  {'randomforestclassifier__max_depth': 10, 'ran...           0.992610   \n",
              "3  {'randomforestclassifier__max_depth': 10, 'ran...           0.988915   \n",
              "4  {'randomforestclassifier__max_depth': 10, 'ran...           0.992610   \n",
              "5  {'randomforestclassifier__max_depth': 10, 'ran...           0.989838   \n",
              "6  {'randomforestclassifier__max_depth': 20, 'ran...           0.999076   \n",
              "7  {'randomforestclassifier__max_depth': 20, 'ran...           0.999076   \n",
              "8  {'randomforestclassifier__max_depth': 20, 'ran...           0.999076   \n",
              "9  {'randomforestclassifier__max_depth': 20, 'ran...           0.999538   \n",
              "\n",
              "   split1_test_score  split2_test_score  split3_test_score  split4_test_score  \\\n",
              "0           0.986143           0.991686           0.988915           0.993530   \n",
              "1           0.988915           0.987529           0.989376           0.991220   \n",
              "2           0.992610           0.990762           0.992148           0.994455   \n",
              "3           0.990300           0.991224           0.989838           0.991220   \n",
              "4           0.992610           0.991686           0.992610           0.995379   \n",
              "5           0.991686           0.990762           0.991224           0.990296   \n",
              "6           0.996767           0.998614           0.998614           0.999076   \n",
              "7           0.997691           0.999076           0.997229           0.999538   \n",
              "8           0.996767           0.999076           0.998614           0.999538   \n",
              "9           0.997229           0.999076           0.998152           0.999538   \n",
              "\n",
              "   mean_test_score  std_test_score  rank_test_score  \n",
              "0         0.990854        0.002956               21  \n",
              "1         0.989560        0.001325               24  \n",
              "2         0.992517        0.001182               20  \n",
              "3         0.990299        0.000876               23  \n",
              "4         0.992979        0.001252               19  \n",
              "5         0.990761        0.000654               22  \n",
              "6         0.998429        0.000857               18  \n",
              "7         0.998522        0.000896               17  \n",
              "8         0.998614        0.000969               16  \n",
              "9         0.998707        0.000896               13  "
            ],
            "text/html": [
              "\n",
              "  <div id=\"df-2f6476e7-2700-44a3-a72e-1312875a7132\">\n",
              "    <div class=\"colab-df-container\">\n",
              "      <div>\n",
              "<style scoped>\n",
              "    .dataframe tbody tr th:only-of-type {\n",
              "        vertical-align: middle;\n",
              "    }\n",
              "\n",
              "    .dataframe tbody tr th {\n",
              "        vertical-align: top;\n",
              "    }\n",
              "\n",
              "    .dataframe thead th {\n",
              "        text-align: right;\n",
              "    }\n",
              "</style>\n",
              "<table border=\"1\" class=\"dataframe\">\n",
              "  <thead>\n",
              "    <tr style=\"text-align: right;\">\n",
              "      <th></th>\n",
              "      <th>mean_fit_time</th>\n",
              "      <th>std_fit_time</th>\n",
              "      <th>mean_score_time</th>\n",
              "      <th>std_score_time</th>\n",
              "      <th>param_randomforestclassifier__max_depth</th>\n",
              "      <th>param_randomforestclassifier__n_estimators</th>\n",
              "      <th>param_simpleimputer__strategy</th>\n",
              "      <th>params</th>\n",
              "      <th>split0_test_score</th>\n",
              "      <th>split1_test_score</th>\n",
              "      <th>split2_test_score</th>\n",
              "      <th>split3_test_score</th>\n",
              "      <th>split4_test_score</th>\n",
              "      <th>mean_test_score</th>\n",
              "      <th>std_test_score</th>\n",
              "      <th>rank_test_score</th>\n",
              "    </tr>\n",
              "  </thead>\n",
              "  <tbody>\n",
              "    <tr>\n",
              "      <th>0</th>\n",
              "      <td>1.203638</td>\n",
              "      <td>0.030220</td>\n",
              "      <td>0.028073</td>\n",
              "      <td>0.001034</td>\n",
              "      <td>10</td>\n",
              "      <td>25</td>\n",
              "      <td>mean</td>\n",
              "      <td>{'randomforestclassifier__max_depth': 10, 'ran...</td>\n",
              "      <td>0.993995</td>\n",
              "      <td>0.986143</td>\n",
              "      <td>0.991686</td>\n",
              "      <td>0.988915</td>\n",
              "      <td>0.993530</td>\n",
              "      <td>0.990854</td>\n",
              "      <td>0.002956</td>\n",
              "      <td>21</td>\n",
              "    </tr>\n",
              "    <tr>\n",
              "      <th>1</th>\n",
              "      <td>1.312837</td>\n",
              "      <td>0.057980</td>\n",
              "      <td>0.029908</td>\n",
              "      <td>0.001940</td>\n",
              "      <td>10</td>\n",
              "      <td>25</td>\n",
              "      <td>median</td>\n",
              "      <td>{'randomforestclassifier__max_depth': 10, 'ran...</td>\n",
              "      <td>0.990762</td>\n",
              "      <td>0.988915</td>\n",
              "      <td>0.987529</td>\n",
              "      <td>0.989376</td>\n",
              "      <td>0.991220</td>\n",
              "      <td>0.989560</td>\n",
              "      <td>0.001325</td>\n",
              "      <td>24</td>\n",
              "    </tr>\n",
              "    <tr>\n",
              "      <th>2</th>\n",
              "      <td>2.278038</td>\n",
              "      <td>0.026651</td>\n",
              "      <td>0.042034</td>\n",
              "      <td>0.002350</td>\n",
              "      <td>10</td>\n",
              "      <td>50</td>\n",
              "      <td>mean</td>\n",
              "      <td>{'randomforestclassifier__max_depth': 10, 'ran...</td>\n",
              "      <td>0.992610</td>\n",
              "      <td>0.992610</td>\n",
              "      <td>0.990762</td>\n",
              "      <td>0.992148</td>\n",
              "      <td>0.994455</td>\n",
              "      <td>0.992517</td>\n",
              "      <td>0.001182</td>\n",
              "      <td>20</td>\n",
              "    </tr>\n",
              "    <tr>\n",
              "      <th>3</th>\n",
              "      <td>2.372835</td>\n",
              "      <td>0.027748</td>\n",
              "      <td>0.041159</td>\n",
              "      <td>0.000792</td>\n",
              "      <td>10</td>\n",
              "      <td>50</td>\n",
              "      <td>median</td>\n",
              "      <td>{'randomforestclassifier__max_depth': 10, 'ran...</td>\n",
              "      <td>0.988915</td>\n",
              "      <td>0.990300</td>\n",
              "      <td>0.991224</td>\n",
              "      <td>0.989838</td>\n",
              "      <td>0.991220</td>\n",
              "      <td>0.990299</td>\n",
              "      <td>0.000876</td>\n",
              "      <td>23</td>\n",
              "    </tr>\n",
              "    <tr>\n",
              "      <th>4</th>\n",
              "      <td>3.321125</td>\n",
              "      <td>0.060356</td>\n",
              "      <td>0.055224</td>\n",
              "      <td>0.002705</td>\n",
              "      <td>10</td>\n",
              "      <td>75</td>\n",
              "      <td>mean</td>\n",
              "      <td>{'randomforestclassifier__max_depth': 10, 'ran...</td>\n",
              "      <td>0.992610</td>\n",
              "      <td>0.992610</td>\n",
              "      <td>0.991686</td>\n",
              "      <td>0.992610</td>\n",
              "      <td>0.995379</td>\n",
              "      <td>0.992979</td>\n",
              "      <td>0.001252</td>\n",
              "      <td>19</td>\n",
              "    </tr>\n",
              "    <tr>\n",
              "      <th>5</th>\n",
              "      <td>3.446590</td>\n",
              "      <td>0.059809</td>\n",
              "      <td>0.054491</td>\n",
              "      <td>0.001582</td>\n",
              "      <td>10</td>\n",
              "      <td>75</td>\n",
              "      <td>median</td>\n",
              "      <td>{'randomforestclassifier__max_depth': 10, 'ran...</td>\n",
              "      <td>0.989838</td>\n",
              "      <td>0.991686</td>\n",
              "      <td>0.990762</td>\n",
              "      <td>0.991224</td>\n",
              "      <td>0.990296</td>\n",
              "      <td>0.990761</td>\n",
              "      <td>0.000654</td>\n",
              "      <td>22</td>\n",
              "    </tr>\n",
              "    <tr>\n",
              "      <th>6</th>\n",
              "      <td>1.304386</td>\n",
              "      <td>0.046537</td>\n",
              "      <td>0.029695</td>\n",
              "      <td>0.001288</td>\n",
              "      <td>20</td>\n",
              "      <td>25</td>\n",
              "      <td>mean</td>\n",
              "      <td>{'randomforestclassifier__max_depth': 20, 'ran...</td>\n",
              "      <td>0.999076</td>\n",
              "      <td>0.996767</td>\n",
              "      <td>0.998614</td>\n",
              "      <td>0.998614</td>\n",
              "      <td>0.999076</td>\n",
              "      <td>0.998429</td>\n",
              "      <td>0.000857</td>\n",
              "      <td>18</td>\n",
              "    </tr>\n",
              "    <tr>\n",
              "      <th>7</th>\n",
              "      <td>1.399635</td>\n",
              "      <td>0.022011</td>\n",
              "      <td>0.028876</td>\n",
              "      <td>0.000623</td>\n",
              "      <td>20</td>\n",
              "      <td>25</td>\n",
              "      <td>median</td>\n",
              "      <td>{'randomforestclassifier__max_depth': 20, 'ran...</td>\n",
              "      <td>0.999076</td>\n",
              "      <td>0.997691</td>\n",
              "      <td>0.999076</td>\n",
              "      <td>0.997229</td>\n",
              "      <td>0.999538</td>\n",
              "      <td>0.998522</td>\n",
              "      <td>0.000896</td>\n",
              "      <td>17</td>\n",
              "    </tr>\n",
              "    <tr>\n",
              "      <th>8</th>\n",
              "      <td>2.507833</td>\n",
              "      <td>0.013200</td>\n",
              "      <td>0.043840</td>\n",
              "      <td>0.001038</td>\n",
              "      <td>20</td>\n",
              "      <td>50</td>\n",
              "      <td>mean</td>\n",
              "      <td>{'randomforestclassifier__max_depth': 20, 'ran...</td>\n",
              "      <td>0.999076</td>\n",
              "      <td>0.996767</td>\n",
              "      <td>0.999076</td>\n",
              "      <td>0.998614</td>\n",
              "      <td>0.999538</td>\n",
              "      <td>0.998614</td>\n",
              "      <td>0.000969</td>\n",
              "      <td>16</td>\n",
              "    </tr>\n",
              "    <tr>\n",
              "      <th>9</th>\n",
              "      <td>2.592053</td>\n",
              "      <td>0.055344</td>\n",
              "      <td>0.043524</td>\n",
              "      <td>0.001024</td>\n",
              "      <td>20</td>\n",
              "      <td>50</td>\n",
              "      <td>median</td>\n",
              "      <td>{'randomforestclassifier__max_depth': 20, 'ran...</td>\n",
              "      <td>0.999538</td>\n",
              "      <td>0.997229</td>\n",
              "      <td>0.999076</td>\n",
              "      <td>0.998152</td>\n",
              "      <td>0.999538</td>\n",
              "      <td>0.998707</td>\n",
              "      <td>0.000896</td>\n",
              "      <td>13</td>\n",
              "    </tr>\n",
              "  </tbody>\n",
              "</table>\n",
              "</div>\n",
              "      <button class=\"colab-df-convert\" onclick=\"convertToInteractive('df-2f6476e7-2700-44a3-a72e-1312875a7132')\"\n",
              "              title=\"Convert this dataframe to an interactive table.\"\n",
              "              style=\"display:none;\">\n",
              "        \n",
              "  <svg xmlns=\"http://www.w3.org/2000/svg\" height=\"24px\"viewBox=\"0 0 24 24\"\n",
              "       width=\"24px\">\n",
              "    <path d=\"M0 0h24v24H0V0z\" fill=\"none\"/>\n",
              "    <path d=\"M18.56 5.44l.94 2.06.94-2.06 2.06-.94-2.06-.94-.94-2.06-.94 2.06-2.06.94zm-11 1L8.5 8.5l.94-2.06 2.06-.94-2.06-.94L8.5 2.5l-.94 2.06-2.06.94zm10 10l.94 2.06.94-2.06 2.06-.94-2.06-.94-.94-2.06-.94 2.06-2.06.94z\"/><path d=\"M17.41 7.96l-1.37-1.37c-.4-.4-.92-.59-1.43-.59-.52 0-1.04.2-1.43.59L10.3 9.45l-7.72 7.72c-.78.78-.78 2.05 0 2.83L4 21.41c.39.39.9.59 1.41.59.51 0 1.02-.2 1.41-.59l7.78-7.78 2.81-2.81c.8-.78.8-2.07 0-2.86zM5.41 20L4 18.59l7.72-7.72 1.47 1.35L5.41 20z\"/>\n",
              "  </svg>\n",
              "      </button>\n",
              "      \n",
              "  <style>\n",
              "    .colab-df-container {\n",
              "      display:flex;\n",
              "      flex-wrap:wrap;\n",
              "      gap: 12px;\n",
              "    }\n",
              "\n",
              "    .colab-df-convert {\n",
              "      background-color: #E8F0FE;\n",
              "      border: none;\n",
              "      border-radius: 50%;\n",
              "      cursor: pointer;\n",
              "      display: none;\n",
              "      fill: #1967D2;\n",
              "      height: 32px;\n",
              "      padding: 0 0 0 0;\n",
              "      width: 32px;\n",
              "    }\n",
              "\n",
              "    .colab-df-convert:hover {\n",
              "      background-color: #E2EBFA;\n",
              "      box-shadow: 0px 1px 2px rgba(60, 64, 67, 0.3), 0px 1px 3px 1px rgba(60, 64, 67, 0.15);\n",
              "      fill: #174EA6;\n",
              "    }\n",
              "\n",
              "    [theme=dark] .colab-df-convert {\n",
              "      background-color: #3B4455;\n",
              "      fill: #D2E3FC;\n",
              "    }\n",
              "\n",
              "    [theme=dark] .colab-df-convert:hover {\n",
              "      background-color: #434B5C;\n",
              "      box-shadow: 0px 1px 3px 1px rgba(0, 0, 0, 0.15);\n",
              "      filter: drop-shadow(0px 1px 2px rgba(0, 0, 0, 0.3));\n",
              "      fill: #FFFFFF;\n",
              "    }\n",
              "  </style>\n",
              "\n",
              "      <script>\n",
              "        const buttonEl =\n",
              "          document.querySelector('#df-2f6476e7-2700-44a3-a72e-1312875a7132 button.colab-df-convert');\n",
              "        buttonEl.style.display =\n",
              "          google.colab.kernel.accessAllowed ? 'block' : 'none';\n",
              "\n",
              "        async function convertToInteractive(key) {\n",
              "          const element = document.querySelector('#df-2f6476e7-2700-44a3-a72e-1312875a7132');\n",
              "          const dataTable =\n",
              "            await google.colab.kernel.invokeFunction('convertToInteractive',\n",
              "                                                     [key], {});\n",
              "          if (!dataTable) return;\n",
              "\n",
              "          const docLinkHtml = 'Like what you see? Visit the ' +\n",
              "            '<a target=\"_blank\" href=https://colab.research.google.com/notebooks/data_table.ipynb>data table notebook</a>'\n",
              "            + ' to learn more about interactive tables.';\n",
              "          element.innerHTML = '';\n",
              "          dataTable['output_type'] = 'display_data';\n",
              "          await google.colab.output.renderOutput(dataTable, element);\n",
              "          const docLink = document.createElement('div');\n",
              "          docLink.innerHTML = docLinkHtml;\n",
              "          element.appendChild(docLink);\n",
              "        }\n",
              "      </script>\n",
              "    </div>\n",
              "  </div>\n",
              "  "
            ]
          },
          "metadata": {},
          "execution_count": 33
        }
      ]
    },
    {
      "cell_type": "code",
      "source": [
        "# Extract best hyperparameters\n",
        "model.best_params_"
      ],
      "metadata": {
        "colab": {
          "base_uri": "https://localhost:8080/"
        },
        "id": "FPDzZcJCbSbn",
        "outputId": "e3975885-f0ce-45af-dad2-2e2aefc6c9cd"
      },
      "execution_count": 34,
      "outputs": [
        {
          "output_type": "execute_result",
          "data": {
            "text/plain": [
              "{'randomforestclassifier__max_depth': 40,\n",
              " 'randomforestclassifier__n_estimators': 75,\n",
              " 'simpleimputer__strategy': 'median'}"
            ]
          },
          "metadata": {},
          "execution_count": 34
        }
      ]
    },
    {
      "cell_type": "markdown",
      "source": [
        "#evaluation "
      ],
      "metadata": {
        "id": "9NL1Slf1cx2F"
      }
    },
    {
      "cell_type": "code",
      "source": [
        "acc_train = model.score(X_train_over,y_train_over)\n",
        "acc_test = model.score(X_test,y_test)\n",
        "\n",
        "print(\"Training Accuracy:\", round(acc_train, 4))\n",
        "print(\"Test Accuracy:\", round(acc_test, 4))"
      ],
      "metadata": {
        "colab": {
          "base_uri": "https://localhost:8080/"
        },
        "id": "nqyiJAUJciUC",
        "outputId": "81202682-73ca-4d7b-ed81-ab7828ce957e"
      },
      "execution_count": 35,
      "outputs": [
        {
          "output_type": "stream",
          "name": "stdout",
          "text": [
            "Training Accuracy: 1.0\n",
            "Test Accuracy: 0.9637\n"
          ]
        }
      ]
    },
    {
      "cell_type": "markdown",
      "source": [
        "test acc 0.9637 > my baseline accuracy so this model is good"
      ],
      "metadata": {
        "id": "Pw11S4DbdA9T"
      }
    },
    {
      "cell_type": "code",
      "source": [
        "#plot a confusion matrix that shows how your best model performs on your test set.\n",
        "ConfusionMatrixDisplay.from_estimator(model,X_test,y_test);"
      ],
      "metadata": {
        "colab": {
          "base_uri": "https://localhost:8080/",
          "height": 279
        },
        "id": "_kzb_31ec1z4",
        "outputId": "30feab41-b40b-4cd6-9456-cbdf66e9e80b"
      },
      "execution_count": 36,
      "outputs": [
        {
          "output_type": "display_data",
          "data": {
            "text/plain": [
              "<Figure size 432x288 with 2 Axes>"
            ],
            "image/png": "[encoded data removed]"
          },
          "metadata": {
            "needs_background": "light"
          }
        }
      ]
    },
    {
      "cell_type": "markdown",
      "source": [
        "#Important Feature \n",
        "important feature that our model used for traing \n"
      ],
      "metadata": {
        "id": "NEGWOzaIdnrM"
      }
    },
    {
      "cell_type": "code",
      "source": [
        "# Get feature names from training data\n",
        "features = X_train_over.columns\n",
        "# Extract importances from model\n",
        "importances = model.best_estimator_.named_steps[\"randomforestclassifier\"].feature_importances_\n",
        "# Create a series with feature names and importances\n",
        "feat_imp = pd.Series(importances,index=features).sort_values()\n",
        "# Plot 10 most important features\n",
        "feat_imp.tail().plot(kind=\"barh\")\n",
        "plt.xlabel(\"Gini Importance\")\n",
        "plt.ylabel(\"Feature\")\n",
        "plt.title(\"Feature Importance\");"
      ],
      "metadata": {
        "colab": {
          "base_uri": "https://localhost:8080/",
          "height": 295
        },
        "id": "b0E1waDhdeq3",
        "outputId": "1bacc90a-3e94-4a1b-af59-902546306d0e"
      },
      "execution_count": 37,
      "outputs": [
        {
          "output_type": "display_data",
          "data": {
            "text/plain": [
              "<Figure size 432x288 with 1 Axes>"
            ],
            "image/png": "[encoded data removed]"
          },
          "metadata": {
            "needs_background": "light"
          }
        }
      ]
    },
    {
      "cell_type": "markdown",
      "source": [
        "so this model thinks \"attr_27\",\"att_24\" is the most important features in this dataset."
      ],
      "metadata": {
        "id": "NHrUlW_3eFQw"
      }
    },
    {
      "cell_type": "code",
      "source": [
        "#saving model to a file\n",
        "with open(\"model.1.pkl\",\"wb\") as f:\n",
        "  pickle.dump(model,f)"
      ],
      "metadata": {
        "id": "3kJwzId8d82E"
      },
      "execution_count": 39,
      "outputs": []
    },
    {
      "cell_type": "code",
      "source": [],
      "metadata": {
        "id": "qzAKEIEhemK3"
      },
      "execution_count": null,
      "outputs": []
    }
  ]
}